{
 "cells": [
  {
   "cell_type": "code",
   "execution_count": 2,
   "id": "0eec3658-2d52-45f4-ab4f-fbfc818cea40",
   "metadata": {},
   "outputs": [],
   "source": [
    "import numpy as np\n",
    "from sklearn.decomposition import TruncatedSVD\n",
    "\n",
    "A = np.array([[3, 4, 3],\n",
    "              [1, 2, 3],\n",
    "              [4, 2, 1]])"
   ]
  },
  {
   "cell_type": "code",
   "execution_count": 5,
   "id": "b2518477-1879-4887-bd56-cb80c02576bf",
   "metadata": {},
   "outputs": [
    {
     "name": "stdout",
     "output_type": "stream",
     "text": [
      "[[ 5.7942733  -0.46723885]\n",
      " [ 3.3604414  -1.58000033]\n",
      " [ 4.14622666  1.93351902]]\n"
     ]
    }
   ],
   "source": [
    "#sklearn\n",
    "\n",
    "svd = TruncatedSVD(n_components=2)\n",
    "A_transformed = svd.fit_transform(A)\n",
    "print(A_transformed)"
   ]
  },
  {
   "cell_type": "code",
   "execution_count": 7,
   "id": "684fbac5-df23-4d58-9400-1ea26d35e323",
   "metadata": {},
   "outputs": [
    {
     "name": "stdout",
     "output_type": "stream",
     "text": [
      "[[-0.73553325 -0.18392937 -0.65204358]\n",
      " [-0.42657919 -0.62196982  0.65664582]\n",
      " [-0.52632788  0.76113306  0.37901904]]\n",
      "[7.87764972 2.54031671 0.69958986]\n",
      "[[-0.60151068 -0.61540527 -0.5093734 ]\n",
      " [ 0.73643349 -0.18005275 -0.65210944]\n",
      " [ 0.30959751 -0.76737042  0.5615087 ]]\n"
     ]
    }
   ],
   "source": [
    "#numpy\n",
    "\n",
    "U,S,VT = np.linalg.svd(A)\n",
    "print(U)\n",
    "print(S)\n",
    "print(VT)"
   ]
  },
  {
   "cell_type": "code",
   "execution_count": 8,
   "id": "ccc92e7a-770b-4757-9a28-f29fcc7e2c18",
   "metadata": {},
   "outputs": [],
   "source": [
    "A_reconstructed = np.dot(U, np.dot(np.diag(S), VT))"
   ]
  },
  {
   "cell_type": "code",
   "execution_count": 9,
   "id": "a686d5e1-04bc-4c6b-8d8d-bc3ddf166e46",
   "metadata": {},
   "outputs": [
    {
     "name": "stdout",
     "output_type": "stream",
     "text": [
      "[[3. 4. 3.]\n",
      " [1. 2. 3.]\n",
      " [4. 2. 1.]]\n"
     ]
    }
   ],
   "source": [
    "print(A_reconstructed)"
   ]
  },
  {
   "cell_type": "code",
   "execution_count": null,
   "id": "1d921656-c477-4d71-a66d-59964982fa9a",
   "metadata": {},
   "outputs": [],
   "source": []
  }
 ],
 "metadata": {
  "kernelspec": {
   "display_name": "Python 3 (ipykernel)",
   "language": "python",
   "name": "python3"
  },
  "language_info": {
   "codemirror_mode": {
    "name": "ipython",
    "version": 3
   },
   "file_extension": ".py",
   "mimetype": "text/x-python",
   "name": "python",
   "nbconvert_exporter": "python",
   "pygments_lexer": "ipython3",
   "version": "3.12.3"
  }
 },
 "nbformat": 4,
 "nbformat_minor": 5
}
