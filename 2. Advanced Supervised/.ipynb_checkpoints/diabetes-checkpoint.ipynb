{
 "cells": [
  {
   "cell_type": "markdown",
   "id": "6d2eb583-e803-41b9-a387-0865819aa57e",
   "metadata": {},
   "source": [
    "# Predict whether an adult is at risk of Diabetes"
   ]
  },
  {
   "cell_type": "code",
   "execution_count": 2,
   "id": "82313a1e-6000-4a45-8f0a-26e687247c2e",
   "metadata": {},
   "outputs": [],
   "source": [
    "from warnings import filterwarnings\n",
    "filterwarnings('ignore')\n",
    "\n",
    "import pandas as pd\n",
    "import numpy as np"
   ]
  },
  {
   "cell_type": "code",
   "execution_count": null,
   "id": "73ff3e3e-d1a9-46d5-a0ed-aa10419c6918",
   "metadata": {},
   "outputs": [],
   "source": []
  }
 ],
 "metadata": {
  "kernelspec": {
   "display_name": "Python 3 (ipykernel)",
   "language": "python",
   "name": "python3"
  },
  "language_info": {
   "codemirror_mode": {
    "name": "ipython",
    "version": 3
   },
   "file_extension": ".py",
   "mimetype": "text/x-python",
   "name": "python",
   "nbconvert_exporter": "python",
   "pygments_lexer": "ipython3",
   "version": "3.12.3"
  }
 },
 "nbformat": 4,
 "nbformat_minor": 5
}
