{
 "cells": [
  {
   "cell_type": "code",
   "execution_count": 1,
   "id": "4b32bec7-12d4-414e-b442-c80a68b1c537",
   "metadata": {},
   "outputs": [],
   "source": [
    "import pandas as pd\n",
    "import numpy as np"
   ]
  },
  {
   "cell_type": "code",
   "execution_count": 48,
   "id": "69d0e1fc-8cec-4737-a16e-92e3f9e430c6",
   "metadata": {},
   "outputs": [],
   "source": [
    "df_train = pd.read_csv('train.csv')\n",
    "df_test = pd.read_csv('test.csv')"
   ]
  },
  {
   "cell_type": "code",
   "execution_count": 49,
   "id": "80e68f7a-8087-46e3-89c3-2dd495ce5bcd",
   "metadata": {},
   "outputs": [],
   "source": [
    "full_data = [df_train, df_test]"
   ]
  },
  {
   "cell_type": "code",
   "execution_count": 50,
   "id": "c93d5049-c573-467b-8719-81bc544f33d9",
   "metadata": {},
   "outputs": [
    {
     "data": {
      "text/plain": [
       "(891, 12)"
      ]
     },
     "execution_count": 50,
     "metadata": {},
     "output_type": "execute_result"
    }
   ],
   "source": [
    "df_train.shape"
   ]
  },
  {
   "cell_type": "code",
   "execution_count": 51,
   "id": "3c4ee8aa-bbae-4259-b5a3-aa0c6a3873b9",
   "metadata": {},
   "outputs": [
    {
     "data": {
      "text/plain": [
       "(418, 11)"
      ]
     },
     "execution_count": 51,
     "metadata": {},
     "output_type": "execute_result"
    }
   ],
   "source": [
    "df_test.shape"
   ]
  },
  {
   "cell_type": "code",
   "execution_count": 52,
   "id": "61355605-886e-465d-8b12-736488a5912f",
   "metadata": {},
   "outputs": [
    {
     "name": "stdout",
     "output_type": "stream",
     "text": [
      "<class 'pandas.core.frame.DataFrame'>\n",
      "RangeIndex: 891 entries, 0 to 890\n",
      "Data columns (total 12 columns):\n",
      " #   Column       Non-Null Count  Dtype  \n",
      "---  ------       --------------  -----  \n",
      " 0   PassengerId  891 non-null    int64  \n",
      " 1   Survived     891 non-null    int64  \n",
      " 2   Pclass       891 non-null    int64  \n",
      " 3   Name         891 non-null    object \n",
      " 4   Sex          891 non-null    object \n",
      " 5   Age          714 non-null    float64\n",
      " 6   SibSp        891 non-null    int64  \n",
      " 7   Parch        891 non-null    int64  \n",
      " 8   Ticket       891 non-null    object \n",
      " 9   Fare         891 non-null    float64\n",
      " 10  Cabin        204 non-null    object \n",
      " 11  Embarked     889 non-null    object \n",
      "dtypes: float64(2), int64(5), object(5)\n",
      "memory usage: 83.7+ KB\n"
     ]
    }
   ],
   "source": [
    "df_train.info()"
   ]
  },
  {
   "cell_type": "markdown",
   "id": "24a062df-a02c-4a77-b4c3-d5f53cc7128e",
   "metadata": {},
   "source": [
    "## Handling Missing Values"
   ]
  },
  {
   "cell_type": "code",
   "execution_count": 56,
   "id": "930901e3-e510-403c-bdbf-fbe1df55823b",
   "metadata": {},
   "outputs": [
    {
     "name": "stdout",
     "output_type": "stream",
     "text": [
      "PassengerId      0\n",
      "Survived         0\n",
      "Pclass           0\n",
      "Name             0\n",
      "Sex              0\n",
      "Age            177\n",
      "SibSp            0\n",
      "Parch            0\n",
      "Ticket           0\n",
      "Fare             0\n",
      "Cabin          687\n",
      "Embarked         2\n",
      "dtype: int64\n",
      "\n",
      "-------------\n",
      "\n",
      "PassengerId      0\n",
      "Pclass           0\n",
      "Name             0\n",
      "Sex              0\n",
      "Age             86\n",
      "SibSp            0\n",
      "Parch            0\n",
      "Ticket           0\n",
      "Fare             1\n",
      "Cabin          327\n",
      "Embarked         0\n",
      "dtype: int64\n",
      "\n",
      "-------------\n",
      "\n"
     ]
    }
   ],
   "source": [
    "for df in full_data:\n",
    "    print(df.isnull().sum())\n",
    "    print('\\n-------------\\n')"
   ]
  },
  {
   "cell_type": "code",
   "execution_count": 7,
   "id": "7f9a3db8-ecd3-4e0c-84c6-3cd37842e627",
   "metadata": {},
   "outputs": [],
   "source": [
    "X = df_train.drop(columns=['Survived'])\n",
    "y = df_train['Survived']"
   ]
  },
  {
   "cell_type": "code",
   "execution_count": 32,
   "id": "795f143c-753e-44f4-ba84-b6cb0ab35d9b",
   "metadata": {
    "scrolled": true
   },
   "outputs": [
    {
     "data": {
      "text/html": [
       "<div>\n",
       "<style scoped>\n",
       "    .dataframe tbody tr th:only-of-type {\n",
       "        vertical-align: middle;\n",
       "    }\n",
       "\n",
       "    .dataframe tbody tr th {\n",
       "        vertical-align: top;\n",
       "    }\n",
       "\n",
       "    .dataframe thead th {\n",
       "        text-align: right;\n",
       "    }\n",
       "</style>\n",
       "<table border=\"1\" class=\"dataframe\">\n",
       "  <thead>\n",
       "    <tr style=\"text-align: right;\">\n",
       "      <th></th>\n",
       "      <th>PassengerId</th>\n",
       "      <th>Pclass</th>\n",
       "      <th>Name</th>\n",
       "      <th>Sex</th>\n",
       "      <th>Age</th>\n",
       "      <th>SibSp</th>\n",
       "      <th>Parch</th>\n",
       "      <th>Ticket</th>\n",
       "      <th>Fare</th>\n",
       "      <th>Cabin</th>\n",
       "      <th>Embarked</th>\n",
       "    </tr>\n",
       "  </thead>\n",
       "  <tbody>\n",
       "    <tr>\n",
       "      <th>0</th>\n",
       "      <td>1</td>\n",
       "      <td>3</td>\n",
       "      <td>Braund, Mr. Owen Harris</td>\n",
       "      <td>male</td>\n",
       "      <td>22.0</td>\n",
       "      <td>1</td>\n",
       "      <td>0</td>\n",
       "      <td>A/5 21171</td>\n",
       "      <td>7.2500</td>\n",
       "      <td>NaN</td>\n",
       "      <td>S</td>\n",
       "    </tr>\n",
       "    <tr>\n",
       "      <th>1</th>\n",
       "      <td>2</td>\n",
       "      <td>1</td>\n",
       "      <td>Cumings, Mrs. John Bradley (Florence Briggs Th...</td>\n",
       "      <td>female</td>\n",
       "      <td>38.0</td>\n",
       "      <td>1</td>\n",
       "      <td>0</td>\n",
       "      <td>PC 17599</td>\n",
       "      <td>71.2833</td>\n",
       "      <td>C85</td>\n",
       "      <td>C</td>\n",
       "    </tr>\n",
       "    <tr>\n",
       "      <th>2</th>\n",
       "      <td>3</td>\n",
       "      <td>3</td>\n",
       "      <td>Heikkinen, Miss. Laina</td>\n",
       "      <td>female</td>\n",
       "      <td>26.0</td>\n",
       "      <td>0</td>\n",
       "      <td>0</td>\n",
       "      <td>STON/O2. 3101282</td>\n",
       "      <td>7.9250</td>\n",
       "      <td>NaN</td>\n",
       "      <td>S</td>\n",
       "    </tr>\n",
       "    <tr>\n",
       "      <th>3</th>\n",
       "      <td>4</td>\n",
       "      <td>1</td>\n",
       "      <td>Futrelle, Mrs. Jacques Heath (Lily May Peel)</td>\n",
       "      <td>female</td>\n",
       "      <td>35.0</td>\n",
       "      <td>1</td>\n",
       "      <td>0</td>\n",
       "      <td>113803</td>\n",
       "      <td>53.1000</td>\n",
       "      <td>C123</td>\n",
       "      <td>S</td>\n",
       "    </tr>\n",
       "    <tr>\n",
       "      <th>4</th>\n",
       "      <td>5</td>\n",
       "      <td>3</td>\n",
       "      <td>Allen, Mr. William Henry</td>\n",
       "      <td>male</td>\n",
       "      <td>35.0</td>\n",
       "      <td>0</td>\n",
       "      <td>0</td>\n",
       "      <td>373450</td>\n",
       "      <td>8.0500</td>\n",
       "      <td>NaN</td>\n",
       "      <td>S</td>\n",
       "    </tr>\n",
       "  </tbody>\n",
       "</table>\n",
       "</div>"
      ],
      "text/plain": [
       "   PassengerId  Pclass                                               Name  \\\n",
       "0            1       3                            Braund, Mr. Owen Harris   \n",
       "1            2       1  Cumings, Mrs. John Bradley (Florence Briggs Th...   \n",
       "2            3       3                             Heikkinen, Miss. Laina   \n",
       "3            4       1       Futrelle, Mrs. Jacques Heath (Lily May Peel)   \n",
       "4            5       3                           Allen, Mr. William Henry   \n",
       "\n",
       "      Sex   Age  SibSp  Parch            Ticket     Fare Cabin Embarked  \n",
       "0    male  22.0      1      0         A/5 21171   7.2500   NaN        S  \n",
       "1  female  38.0      1      0          PC 17599  71.2833   C85        C  \n",
       "2  female  26.0      0      0  STON/O2. 3101282   7.9250   NaN        S  \n",
       "3  female  35.0      1      0            113803  53.1000  C123        S  \n",
       "4    male  35.0      0      0            373450   8.0500   NaN        S  "
      ]
     },
     "execution_count": 32,
     "metadata": {},
     "output_type": "execute_result"
    }
   ],
   "source": [
    "X.head()"
   ]
  },
  {
   "cell_type": "code",
   "execution_count": 9,
   "id": "0af9c512-16a5-4d23-ad60-54dc61500070",
   "metadata": {
    "scrolled": true
   },
   "outputs": [
    {
     "data": {
      "text/plain": [
       "array([nan, 'C85', 'C123', 'E46', 'G6', 'C103', 'D56', 'A6',\n",
       "       'C23 C25 C27', 'B78', 'D33', 'B30', 'C52', 'B28', 'C83', 'F33',\n",
       "       'F G73', 'E31', 'A5', 'D10 D12', 'D26', 'C110', 'B58 B60', 'E101',\n",
       "       'F E69', 'D47', 'B86', 'F2', 'C2', 'E33', 'B19', 'A7', 'C49', 'F4',\n",
       "       'A32', 'B4', 'B80', 'A31', 'D36', 'D15', 'C93', 'C78', 'D35',\n",
       "       'C87', 'B77', 'E67', 'B94', 'C125', 'C99', 'C118', 'D7', 'A19',\n",
       "       'B49', 'D', 'C22 C26', 'C106', 'C65', 'E36', 'C54',\n",
       "       'B57 B59 B63 B66', 'C7', 'E34', 'C32', 'B18', 'C124', 'C91', 'E40',\n",
       "       'T', 'C128', 'D37', 'B35', 'E50', 'C82', 'B96 B98', 'E10', 'E44',\n",
       "       'A34', 'C104', 'C111', 'C92', 'E38', 'D21', 'E12', 'E63', 'A14',\n",
       "       'B37', 'C30', 'D20', 'B79', 'E25', 'D46', 'B73', 'C95', 'B38',\n",
       "       'B39', 'B22', 'C86', 'C70', 'A16', 'C101', 'C68', 'A10', 'E68',\n",
       "       'B41', 'A20', 'D19', 'D50', 'D9', 'A23', 'B50', 'A26', 'D48',\n",
       "       'E58', 'C126', 'B71', 'B51 B53 B55', 'D49', 'B5', 'B20', 'F G63',\n",
       "       'C62 C64', 'E24', 'C90', 'C45', 'E8', 'B101', 'D45', 'C46', 'D30',\n",
       "       'E121', 'D11', 'E77', 'F38', 'B3', 'D6', 'B82 B84', 'D17', 'A36',\n",
       "       'B102', 'B69', 'E49', 'C47', 'D28', 'E17', 'A24', 'C50', 'B42',\n",
       "       'C148'], dtype=object)"
      ]
     },
     "execution_count": 9,
     "metadata": {},
     "output_type": "execute_result"
    }
   ],
   "source": [
    "X['Cabin'].unique()"
   ]
  },
  {
   "cell_type": "code",
   "execution_count": 10,
   "id": "f82f62a7-bca3-477e-8823-05fcb25b670f",
   "metadata": {
    "scrolled": true
   },
   "outputs": [
    {
     "data": {
      "text/plain": [
       "Cabin\n",
       "G6             4\n",
       "C23 C25 C27    4\n",
       "B96 B98        4\n",
       "F2             3\n",
       "D              3\n",
       "              ..\n",
       "E17            1\n",
       "A24            1\n",
       "C50            1\n",
       "B42            1\n",
       "C148           1\n",
       "Name: count, Length: 147, dtype: int64"
      ]
     },
     "execution_count": 10,
     "metadata": {},
     "output_type": "execute_result"
    }
   ],
   "source": [
    "X['Cabin'].value_counts()"
   ]
  },
  {
   "cell_type": "markdown",
   "id": "6ebd9f45-606e-49bb-b044-e09a8f699731",
   "metadata": {},
   "source": [
    "Here we can see that almost 77% of the cabin data is missing, so we can't simply let the model to handle the missing values either its not a preferred to use any traditional methods like mean or mode to handle it.\n",
    "\n",
    "We can do feature engineering here:\n",
    "The `Cabin` column contains a very high proportion of missing values (~77%), and the raw string values are not directly useful for prediction. Instead of trying to impute specific cabin numbers, we will simplify it into a meaningful, low-noise signal:\n",
    "\n",
    "- **Create `HasCabin`**: a binary feature indicating whether a passenger had a recorded cabin (`1`) or not (`0`).  \n",
    "- **(Optional) Extract Deck**: take the first character of the cabin (e.g., `C85` → `C`) and fill missing entries with `Unknown`. This captures possible location effects without keeping the full cabin code.  \n",
    "- **Drop the original `Cabin` column**: once we’ve extracted what’s useful, we remove the raw column to avoid adding noise.\n",
    "\n",
    "This approach preserves the most predictive information (having a cabin and possibly the deck) while avoiding overfitting on sparse, high-cardinality data.\n"
   ]
  },
  {
   "cell_type": "code",
   "execution_count": 11,
   "id": "9537458c-ba26-4005-870a-1d848e683952",
   "metadata": {},
   "outputs": [],
   "source": [
    "df = X.copy()"
   ]
  },
  {
   "cell_type": "code",
   "execution_count": 57,
   "id": "20d74ceb-bf05-44db-86d5-2b8fed986c98",
   "metadata": {},
   "outputs": [],
   "source": [
    "for df in full_data:\n",
    "    df['HasCabin'] = df['Cabin'].notna().astype(int)"
   ]
  },
  {
   "cell_type": "code",
   "execution_count": 13,
   "id": "5ee73ee7-99da-44eb-bcfa-b32ad3ec2b62",
   "metadata": {
    "scrolled": true
   },
   "outputs": [
    {
     "data": {
      "text/plain": [
       "HasCabin\n",
       "0    687\n",
       "1    204\n",
       "Name: count, dtype: int64"
      ]
     },
     "execution_count": 13,
     "metadata": {},
     "output_type": "execute_result"
    }
   ],
   "source": [
    "df['HasCabin'].value_counts()"
   ]
  },
  {
   "cell_type": "code",
   "execution_count": 14,
   "id": "b49b77aa-fcfe-4627-990a-267e860adc3d",
   "metadata": {},
   "outputs": [],
   "source": [
    "df['Deck'] = df['Cabin'].str[0]\n",
    "df['Deck'] = df['Deck'].fillna('Unknown')"
   ]
  },
  {
   "cell_type": "code",
   "execution_count": 15,
   "id": "d3e5b9b3-c3f3-4f9d-a7bd-1821f280ed27",
   "metadata": {},
   "outputs": [
    {
     "data": {
      "text/plain": [
       "array(['Unknown', 'C', 'E', 'G', 'D', 'A', 'B', 'F', 'T'], dtype=object)"
      ]
     },
     "execution_count": 15,
     "metadata": {},
     "output_type": "execute_result"
    }
   ],
   "source": [
    "df['Deck'].unique()"
   ]
  },
  {
   "cell_type": "code",
   "execution_count": 16,
   "id": "d8983db4-6a96-4149-be1c-e9b72f5b66c6",
   "metadata": {
    "scrolled": true
   },
   "outputs": [
    {
     "data": {
      "text/plain": [
       "Deck\n",
       "Unknown    687\n",
       "C           59\n",
       "B           47\n",
       "D           33\n",
       "E           32\n",
       "A           15\n",
       "F           13\n",
       "G            4\n",
       "T            1\n",
       "Name: count, dtype: int64"
      ]
     },
     "execution_count": 16,
     "metadata": {},
     "output_type": "execute_result"
    }
   ],
   "source": [
    "df['Deck'].value_counts()"
   ]
  },
  {
   "cell_type": "code",
   "execution_count": 17,
   "id": "cb1bd9f5-08ad-4cff-8ec1-086945ddc594",
   "metadata": {},
   "outputs": [],
   "source": [
    "df.drop(columns=['Cabin'], inplace=True)"
   ]
  },
  {
   "cell_type": "markdown",
   "id": "2fee1fcb-2fa3-4248-92ec-5b76c4cbf9ef",
   "metadata": {},
   "source": [
    "### Age Missing Value Handling"
   ]
  },
  {
   "cell_type": "markdown",
   "id": "e5b40458-9479-45c8-8b8a-5307a65224e2",
   "metadata": {},
   "source": [
    "As we can see there is almost 20% of the Age column data is Missing.\n",
    "For Imputing this we can either use simple Median/Mean imputation, but which may not give optimal results.\n",
    "\n",
    "So we can use Median by Group: Impute using groups like Title, which give more optimal results."
   ]
  },
  {
   "cell_type": "markdown",
   "id": "6b636693-a7d3-4f04-8050-96fb98111615",
   "metadata": {},
   "source": [
    "For that we need to extract feature called Title from Name column"
   ]
  },
  {
   "cell_type": "markdown",
   "id": "ded9de56-b6c2-4f1d-ac35-27e8125fd732",
   "metadata": {},
   "source": [
    "#### Feature Extraction 'Title'"
   ]
  },
  {
   "cell_type": "code",
   "execution_count": 18,
   "id": "b1359338-2104-4ad8-a1a1-08f0d985103b",
   "metadata": {},
   "outputs": [],
   "source": [
    "df['Title'] = df['Name'].str.split(',').str[1]"
   ]
  },
  {
   "cell_type": "code",
   "execution_count": 19,
   "id": "9d7810e5-f162-437c-8804-be7759a27c04",
   "metadata": {},
   "outputs": [],
   "source": [
    "df['Title'] = df['Title'].str.split('.').str[0]"
   ]
  },
  {
   "cell_type": "code",
   "execution_count": 20,
   "id": "6c7a59e5-4f5f-4a24-9eb0-8ecef0212108",
   "metadata": {},
   "outputs": [],
   "source": [
    "df['Title'] = df['Title'].str.strip()"
   ]
  },
  {
   "cell_type": "code",
   "execution_count": 21,
   "id": "ef93e692-c63d-467d-b218-80ffa8bfb64e",
   "metadata": {},
   "outputs": [
    {
     "data": {
      "text/plain": [
       "0      Mr\n",
       "1     Mrs\n",
       "2    Miss\n",
       "3     Mrs\n",
       "4      Mr\n",
       "Name: Title, dtype: object"
      ]
     },
     "execution_count": 21,
     "metadata": {},
     "output_type": "execute_result"
    }
   ],
   "source": [
    "df['Title'].head()"
   ]
  },
  {
   "cell_type": "code",
   "execution_count": 22,
   "id": "cf3ee470-07fe-455f-b5c3-673ee5ce01ec",
   "metadata": {},
   "outputs": [
    {
     "data": {
      "text/plain": [
       "array(['Mr', 'Mrs', 'Miss', 'Master', 'Don', 'Rev', 'Dr', 'Mme', 'Ms',\n",
       "       'Major', 'Lady', 'Sir', 'Mlle', 'Col', 'Capt', 'the Countess',\n",
       "       'Jonkheer'], dtype=object)"
      ]
     },
     "execution_count": 22,
     "metadata": {},
     "output_type": "execute_result"
    }
   ],
   "source": [
    "df['Title'].unique()"
   ]
  },
  {
   "cell_type": "code",
   "execution_count": 23,
   "id": "3f107996-b85f-487e-9cbf-e63d383061d3",
   "metadata": {},
   "outputs": [],
   "source": [
    "df['Title'] = df['Title'].replace({\n",
    "    'Mlle': 'Miss',\n",
    "    'Ms': 'Miss',\n",
    "    'Mme': 'Mrs',\n",
    "    'Lady': 'Rare',\n",
    "    'the Countess': 'Rare',\n",
    "    'Capt': 'Rare',\n",
    "    'Col': 'Rare',\n",
    "    'Don': 'Rare',\n",
    "    'Dr': 'Rare',\n",
    "    'Major': 'Rare',\n",
    "    'Rev': 'Rare',\n",
    "    'Sir': 'Rare',\n",
    "    'Jonkheer': 'Rare',\n",
    "    'Dona': 'Rare'\n",
    "})"
   ]
  },
  {
   "cell_type": "code",
   "execution_count": 24,
   "id": "b77a99e4-c680-45f4-a69f-3a198cf4536b",
   "metadata": {},
   "outputs": [
    {
     "data": {
      "text/plain": [
       "array(['Mr', 'Mrs', 'Miss', 'Master', 'Rare'], dtype=object)"
      ]
     },
     "execution_count": 24,
     "metadata": {},
     "output_type": "execute_result"
    }
   ],
   "source": [
    "df['Title'].unique()"
   ]
  },
  {
   "cell_type": "code",
   "execution_count": 25,
   "id": "262bb3ef-119a-4069-b630-c7bce5fbbc4b",
   "metadata": {},
   "outputs": [
    {
     "data": {
      "text/plain": [
       "Title\n",
       "Mr        517\n",
       "Miss      185\n",
       "Mrs       126\n",
       "Master     40\n",
       "Rare       23\n",
       "Name: count, dtype: int64"
      ]
     },
     "execution_count": 25,
     "metadata": {},
     "output_type": "execute_result"
    }
   ],
   "source": [
    "df['Title'].value_counts()"
   ]
  },
  {
   "cell_type": "code",
   "execution_count": 26,
   "id": "2990721f-b6c9-46b5-95df-a851c6aca257",
   "metadata": {},
   "outputs": [],
   "source": [
    "df['Age'] = df['Age'].fillna(df.groupby('Title')['Age'].transform('mean'))"
   ]
  },
  {
   "cell_type": "markdown",
   "id": "5b8851f4-858e-4c2c-99a2-a6d4f357c270",
   "metadata": {},
   "source": [
    "### Binning Age column"
   ]
  },
  {
   "cell_type": "markdown",
   "id": "16fa7261-8638-4a48-ab24-60fcff0da3d2",
   "metadata": {},
   "source": [
    "So that Models often capture non-linear survival patterns better this way."
   ]
  },
  {
   "cell_type": "code",
   "execution_count": 27,
   "id": "17f4ab3c-9f4c-4e01-b4c8-9c28f8d65ae6",
   "metadata": {},
   "outputs": [],
   "source": [
    "df['AgeBin'] = pd.cut(df['Age'],\n",
    "                     bins=[0,12,18,35,50,80],\n",
    "                     labels=['Child', 'Teen', 'Young Adult', 'Adult', 'Senior'])"
   ]
  },
  {
   "cell_type": "code",
   "execution_count": 28,
   "id": "55099e36-6575-446b-b90a-9c82acecd14d",
   "metadata": {},
   "outputs": [
    {
     "data": {
      "text/plain": [
       "AgeBin\n",
       "Young Adult    513\n",
       "Adult          171\n",
       "Child           73\n",
       "Teen            70\n",
       "Senior          64\n",
       "Name: count, dtype: int64"
      ]
     },
     "execution_count": 28,
     "metadata": {},
     "output_type": "execute_result"
    }
   ],
   "source": [
    "df['AgeBin'].value_counts()"
   ]
  },
  {
   "cell_type": "code",
   "execution_count": 30,
   "id": "83dbf81d-45d2-47b4-b3f9-95285f27ec99",
   "metadata": {},
   "outputs": [],
   "source": [
    "import seaborn as sns"
   ]
  },
  {
   "cell_type": "code",
   "execution_count": 31,
   "id": "1a1d83c0-c7c2-4683-aa0f-ace312621de3",
   "metadata": {},
   "outputs": [
    {
     "data": {
      "text/plain": [
       "<Axes: xlabel='AgeBin', ylabel='Count'>"
      ]
     },
     "execution_count": 31,
     "metadata": {},
     "output_type": "execute_result"
    },
    {
     "data": {
      "image/png": "[encoded data removed]",
      "text/plain": [
       "<Figure size 640x480 with 1 Axes>"
      ]
     },
     "metadata": {},
     "output_type": "display_data"
    }
   ],
   "source": [
    "sns.histplot(df['AgeBin'])"
   ]
  },
  {
   "cell_type": "code",
   "execution_count": 33,
   "id": "294c4934-2786-4a2b-835f-f4a8d24b93d2",
   "metadata": {},
   "outputs": [],
   "source": [
    "df['Embarked'] = df['Embarked'].fillna(df['Embarked'].mode()[0])"
   ]
  },
  {
   "cell_type": "markdown",
   "id": "a826ac76-c3c7-40c7-9204-8c2346adf12f",
   "metadata": {},
   "source": [
    "### Feature Engineering"
   ]
  },
  {
   "cell_type": "markdown",
   "id": "f5cc2c3e-efdd-40c8-96be-051b5ad4ea5e",
   "metadata": {},
   "source": [
    "Passengers with family aboard often had different survival chances."
   ]
  },
  {
   "cell_type": "code",
   "execution_count": 35,
   "id": "da05f40d-f4b9-47f1-8f08-a3028eb757fe",
   "metadata": {},
   "outputs": [],
   "source": [
    "df['FamilySize'] = df['SibSp']+df['Parch']+1"
   ]
  },
  {
   "cell_type": "markdown",
   "id": "db4a7f4f-29ed-4f99-97d4-942276429a08",
   "metadata": {},
   "source": [
    "People traveling alone might have lower survival probability."
   ]
  },
  {
   "cell_type": "code",
   "execution_count": 37,
   "id": "24872f2c-da58-4f4a-ac20-60493e61d413",
   "metadata": {},
   "outputs": [],
   "source": [
    "df['IsAlone'] = (df['FamilySize']==1).astype(int)"
   ]
  },
  {
   "cell_type": "markdown",
   "id": "49869106-2a9d-4b58-b563-469032794f15",
   "metadata": {},
   "source": [
    "Group passengers into categories based on ticket fare."
   ]
  },
  {
   "cell_type": "code",
   "execution_count": 38,
   "id": "01653502-18b0-4362-9202-9d7f5098a32f",
   "metadata": {},
   "outputs": [],
   "source": [
    "df['FareBin'] = pd.qcut(df['Fare'], 4, labels=['Low',  'Mid', 'High', 'Very_High'])"
   ]
  },
  {
   "cell_type": "markdown",
   "id": "a41a7826-c124-483a-9be9-22ac6c2b122b",
   "metadata": {},
   "source": [
    "#### Interaction Features (Pclass × Sex)\n",
    "Some survival patterns depend on both class and gender."
   ]
  },
  {
   "cell_type": "code",
   "execution_count": 39,
   "id": "0af87c6f-66ff-411f-b1c9-d3581ee5a2f2",
   "metadata": {},
   "outputs": [],
   "source": [
    "df['Pclass_Sex'] = df['Pclass'].astype(str)+\"_\"+df['Sex']"
   ]
  },
  {
   "cell_type": "code",
   "execution_count": null,
   "id": "36cd3347-6acf-4f4d-bfed-13abbd8a0ece",
   "metadata": {},
   "outputs": [],
   "source": []
  }
 ],
 "metadata": {
  "kernelspec": {
   "display_name": "Python 3 (ipykernel)",
   "language": "python",
   "name": "python3"
  },
  "language_info": {
   "codemirror_mode": {
    "name": "ipython",
    "version": 3
   },
   "file_extension": ".py",
   "mimetype": "text/x-python",
   "name": "python",
   "nbconvert_exporter": "python",
   "pygments_lexer": "ipython3",
   "version": "3.12.3"
  }
 },
 "nbformat": 4,
 "nbformat_minor": 5
}
