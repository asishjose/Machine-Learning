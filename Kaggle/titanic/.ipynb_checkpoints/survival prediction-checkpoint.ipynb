{
 "cells": [
  {
   "cell_type": "code",
   "execution_count": 1,
   "id": "4b32bec7-12d4-414e-b442-c80a68b1c537",
   "metadata": {},
   "outputs": [],
   "source": [
    "import pandas as pd\n",
    "import numpy as np"
   ]
  },
  {
   "cell_type": "code",
   "execution_count": 2,
   "id": "69d0e1fc-8cec-4737-a16e-92e3f9e430c6",
   "metadata": {},
   "outputs": [],
   "source": [
    "train = pd.read_csv('train.csv')\n",
    "test = pd.read_csv('test.csv')\n",
    "\n",
    "train['is_train'] = 1\n",
    "test['is_train'] = 0\n",
    "\n",
    "target = train['Survived']\n",
    "\n",
    "train = train.drop(columns=['Survived'])\n",
    "combined = pd.concat([train, test], ignore_index=True)"
   ]
  },
  {
   "cell_type": "code",
   "execution_count": 3,
   "id": "35396682-6a86-473f-86a2-c7dfc6aa81aa",
   "metadata": {},
   "outputs": [
    {
     "data": {
      "text/plain": [
       "is_train\n",
       "1    891\n",
       "0    418\n",
       "Name: count, dtype: int64"
      ]
     },
     "execution_count": 3,
     "metadata": {},
     "output_type": "execute_result"
    }
   ],
   "source": [
    "combined.is_train.value_counts()"
   ]
  },
  {
   "cell_type": "code",
   "execution_count": 4,
   "id": "876673a3-e079-438d-869a-790b8f72a700",
   "metadata": {},
   "outputs": [],
   "source": [
    "df = combined"
   ]
  },
  {
   "cell_type": "code",
   "execution_count": 5,
   "id": "61355605-886e-465d-8b12-736488a5912f",
   "metadata": {},
   "outputs": [
    {
     "name": "stdout",
     "output_type": "stream",
     "text": [
      "<class 'pandas.core.frame.DataFrame'>\n",
      "RangeIndex: 1309 entries, 0 to 1308\n",
      "Data columns (total 12 columns):\n",
      " #   Column       Non-Null Count  Dtype  \n",
      "---  ------       --------------  -----  \n",
      " 0   PassengerId  1309 non-null   int64  \n",
      " 1   Pclass       1309 non-null   int64  \n",
      " 2   Name         1309 non-null   object \n",
      " 3   Sex          1309 non-null   object \n",
      " 4   Age          1046 non-null   float64\n",
      " 5   SibSp        1309 non-null   int64  \n",
      " 6   Parch        1309 non-null   int64  \n",
      " 7   Ticket       1309 non-null   object \n",
      " 8   Fare         1308 non-null   float64\n",
      " 9   Cabin        295 non-null    object \n",
      " 10  Embarked     1307 non-null   object \n",
      " 11  is_train     1309 non-null   int64  \n",
      "dtypes: float64(2), int64(5), object(5)\n",
      "memory usage: 122.8+ KB\n"
     ]
    }
   ],
   "source": [
    "df.info()"
   ]
  },
  {
   "cell_type": "markdown",
   "id": "24a062df-a02c-4a77-b4c3-d5f53cc7128e",
   "metadata": {},
   "source": [
    "## Handling Missing Values"
   ]
  },
  {
   "cell_type": "code",
   "execution_count": 6,
   "id": "930901e3-e510-403c-bdbf-fbe1df55823b",
   "metadata": {},
   "outputs": [
    {
     "data": {
      "text/plain": [
       "PassengerId       0\n",
       "Pclass            0\n",
       "Name              0\n",
       "Sex               0\n",
       "Age             263\n",
       "SibSp             0\n",
       "Parch             0\n",
       "Ticket            0\n",
       "Fare              1\n",
       "Cabin          1014\n",
       "Embarked          2\n",
       "is_train          0\n",
       "dtype: int64"
      ]
     },
     "execution_count": 6,
     "metadata": {},
     "output_type": "execute_result"
    }
   ],
   "source": [
    "df.isnull().sum()"
   ]
  },
  {
   "cell_type": "code",
   "execution_count": 7,
   "id": "0af9c512-16a5-4d23-ad60-54dc61500070",
   "metadata": {
    "scrolled": true
   },
   "outputs": [
    {
     "data": {
      "text/plain": [
       "array([nan, 'C85', 'C123', 'E46', 'G6', 'C103', 'D56', 'A6',\n",
       "       'C23 C25 C27', 'B78', 'D33', 'B30', 'C52', 'B28', 'C83', 'F33',\n",
       "       'F G73', 'E31', 'A5', 'D10 D12', 'D26', 'C110', 'B58 B60', 'E101',\n",
       "       'F E69', 'D47', 'B86', 'F2', 'C2', 'E33', 'B19', 'A7', 'C49', 'F4',\n",
       "       'A32', 'B4', 'B80', 'A31', 'D36', 'D15', 'C93', 'C78', 'D35',\n",
       "       'C87', 'B77', 'E67', 'B94', 'C125', 'C99', 'C118', 'D7', 'A19',\n",
       "       'B49', 'D', 'C22 C26', 'C106', 'C65', 'E36', 'C54',\n",
       "       'B57 B59 B63 B66', 'C7', 'E34', 'C32', 'B18', 'C124', 'C91', 'E40',\n",
       "       'T', 'C128', 'D37', 'B35', 'E50', 'C82', 'B96 B98', 'E10', 'E44',\n",
       "       'A34', 'C104', 'C111', 'C92', 'E38', 'D21', 'E12', 'E63', 'A14',\n",
       "       'B37', 'C30', 'D20', 'B79', 'E25', 'D46', 'B73', 'C95', 'B38',\n",
       "       'B39', 'B22', 'C86', 'C70', 'A16', 'C101', 'C68', 'A10', 'E68',\n",
       "       'B41', 'A20', 'D19', 'D50', 'D9', 'A23', 'B50', 'A26', 'D48',\n",
       "       'E58', 'C126', 'B71', 'B51 B53 B55', 'D49', 'B5', 'B20', 'F G63',\n",
       "       'C62 C64', 'E24', 'C90', 'C45', 'E8', 'B101', 'D45', 'C46', 'D30',\n",
       "       'E121', 'D11', 'E77', 'F38', 'B3', 'D6', 'B82 B84', 'D17', 'A36',\n",
       "       'B102', 'B69', 'E49', 'C47', 'D28', 'E17', 'A24', 'C50', 'B42',\n",
       "       'C148', 'B45', 'B36', 'A21', 'D34', 'A9', 'C31', 'B61', 'C53',\n",
       "       'D43', 'C130', 'C132', 'C55 C57', 'C116', 'F', 'A29', 'C6', 'C28',\n",
       "       'C51', 'C97', 'D22', 'B10', 'E45', 'E52', 'A11', 'B11', 'C80',\n",
       "       'C89', 'F E46', 'B26', 'F E57', 'A18', 'E60', 'E39 E41',\n",
       "       'B52 B54 B56', 'C39', 'B24', 'D40', 'D38', 'C105'], dtype=object)"
      ]
     },
     "execution_count": 7,
     "metadata": {},
     "output_type": "execute_result"
    }
   ],
   "source": [
    "df['Cabin'].unique()"
   ]
  },
  {
   "cell_type": "code",
   "execution_count": 8,
   "id": "f82f62a7-bca3-477e-8823-05fcb25b670f",
   "metadata": {
    "scrolled": true
   },
   "outputs": [
    {
     "data": {
      "text/plain": [
       "Cabin\n",
       "C23 C25 C27        6\n",
       "G6                 5\n",
       "B57 B59 B63 B66    5\n",
       "F33                4\n",
       "F4                 4\n",
       "                  ..\n",
       "C39                1\n",
       "B24                1\n",
       "D40                1\n",
       "D38                1\n",
       "C105               1\n",
       "Name: count, Length: 186, dtype: int64"
      ]
     },
     "execution_count": 8,
     "metadata": {},
     "output_type": "execute_result"
    }
   ],
   "source": [
    "df['Cabin'].value_counts()"
   ]
  },
  {
   "cell_type": "markdown",
   "id": "6ebd9f45-606e-49bb-b044-e09a8f699731",
   "metadata": {},
   "source": [
    "Here we can see that almost 77% of the cabin data is missing, so we can't simply let the model to handle the missing values either its not a preferred to use any traditional methods like mean or mode to handle it.\n",
    "\n",
    "We can do feature engineering here:\n",
    "The `Cabin` column contains a very high proportion of missing values (~77%), and the raw string values are not directly useful for prediction. Instead of trying to impute specific cabin numbers, we will simplify it into a meaningful, low-noise signal:\n",
    "\n",
    "- **Create `HasCabin`**: a binary feature indicating whether a passenger had a recorded cabin (`1`) or not (`0`).  \n",
    "- **(Optional) Extract Deck**: take the first character of the cabin (e.g., `C85` → `C`) and fill missing entries with `Unknown`. This captures possible location effects without keeping the full cabin code.  \n",
    "- **Drop the original `Cabin` column**: once we’ve extracted what’s useful, we remove the raw column to avoid adding noise.\n",
    "\n",
    "This approach preserves the most predictive information (having a cabin and possibly the deck) while avoiding overfitting on sparse, high-cardinality data.\n"
   ]
  },
  {
   "cell_type": "code",
   "execution_count": 9,
   "id": "20d74ceb-bf05-44db-86d5-2b8fed986c98",
   "metadata": {},
   "outputs": [],
   "source": [
    "df['HasCabin'] = df['Cabin'].notna().astype(int)"
   ]
  },
  {
   "cell_type": "code",
   "execution_count": 10,
   "id": "5ee73ee7-99da-44eb-bcfa-b32ad3ec2b62",
   "metadata": {
    "scrolled": true
   },
   "outputs": [
    {
     "data": {
      "text/plain": [
       "HasCabin\n",
       "0    1014\n",
       "1     295\n",
       "Name: count, dtype: int64"
      ]
     },
     "execution_count": 10,
     "metadata": {},
     "output_type": "execute_result"
    }
   ],
   "source": [
    "df['HasCabin'].value_counts()"
   ]
  },
  {
   "cell_type": "code",
   "execution_count": 11,
   "id": "b49b77aa-fcfe-4627-990a-267e860adc3d",
   "metadata": {},
   "outputs": [],
   "source": [
    "df['Deck'] = df['Cabin'].str[0]\n",
    "df['Deck'] = df['Deck'].fillna('Unknown')"
   ]
  },
  {
   "cell_type": "code",
   "execution_count": 12,
   "id": "d3e5b9b3-c3f3-4f9d-a7bd-1821f280ed27",
   "metadata": {},
   "outputs": [
    {
     "data": {
      "text/plain": [
       "array(['Unknown', 'C', 'E', 'G', 'D', 'A', 'B', 'F', 'T'], dtype=object)"
      ]
     },
     "execution_count": 12,
     "metadata": {},
     "output_type": "execute_result"
    }
   ],
   "source": [
    "df['Deck'].unique()"
   ]
  },
  {
   "cell_type": "code",
   "execution_count": 13,
   "id": "d8983db4-6a96-4149-be1c-e9b72f5b66c6",
   "metadata": {
    "scrolled": true
   },
   "outputs": [
    {
     "data": {
      "text/plain": [
       "Deck\n",
       "Unknown    1014\n",
       "C            94\n",
       "B            65\n",
       "D            46\n",
       "E            41\n",
       "A            22\n",
       "F            21\n",
       "G             5\n",
       "T             1\n",
       "Name: count, dtype: int64"
      ]
     },
     "execution_count": 13,
     "metadata": {},
     "output_type": "execute_result"
    }
   ],
   "source": [
    "df['Deck'].value_counts()"
   ]
  },
  {
   "cell_type": "code",
   "execution_count": 14,
   "id": "cb1bd9f5-08ad-4cff-8ec1-086945ddc594",
   "metadata": {},
   "outputs": [],
   "source": [
    "df.drop(columns=['Cabin'], inplace=True)"
   ]
  },
  {
   "cell_type": "markdown",
   "id": "2fee1fcb-2fa3-4248-92ec-5b76c4cbf9ef",
   "metadata": {},
   "source": [
    "### Age Missing Value Handling"
   ]
  },
  {
   "cell_type": "markdown",
   "id": "e5b40458-9479-45c8-8b8a-5307a65224e2",
   "metadata": {},
   "source": [
    "As we can see there is almost 20% of the Age column data is Missing.\n",
    "For Imputing this we can either use simple Median/Mean imputation, but which may not give optimal results.\n",
    "\n",
    "So we can use Median by Group: Impute using groups like Title, which give more optimal results."
   ]
  },
  {
   "cell_type": "markdown",
   "id": "6b636693-a7d3-4f04-8050-96fb98111615",
   "metadata": {},
   "source": [
    "For that we need to extract feature called Title from Name column"
   ]
  },
  {
   "cell_type": "markdown",
   "id": "ded9de56-b6c2-4f1d-ac35-27e8125fd732",
   "metadata": {},
   "source": [
    "#### Feature Extraction 'Title'"
   ]
  },
  {
   "cell_type": "code",
   "execution_count": 15,
   "id": "b1359338-2104-4ad8-a1a1-08f0d985103b",
   "metadata": {},
   "outputs": [],
   "source": [
    "df['Title'] = df['Name'].str.split(',').str[1]"
   ]
  },
  {
   "cell_type": "code",
   "execution_count": 16,
   "id": "9d7810e5-f162-437c-8804-be7759a27c04",
   "metadata": {},
   "outputs": [],
   "source": [
    "df['Title'] = df['Title'].str.split('.').str[0]"
   ]
  },
  {
   "cell_type": "code",
   "execution_count": 17,
   "id": "6c7a59e5-4f5f-4a24-9eb0-8ecef0212108",
   "metadata": {},
   "outputs": [],
   "source": [
    "df['Title'] = df['Title'].str.strip()"
   ]
  },
  {
   "cell_type": "code",
   "execution_count": 18,
   "id": "ef93e692-c63d-467d-b218-80ffa8bfb64e",
   "metadata": {},
   "outputs": [
    {
     "data": {
      "text/plain": [
       "0      Mr\n",
       "1     Mrs\n",
       "2    Miss\n",
       "3     Mrs\n",
       "4      Mr\n",
       "Name: Title, dtype: object"
      ]
     },
     "execution_count": 18,
     "metadata": {},
     "output_type": "execute_result"
    }
   ],
   "source": [
    "df['Title'].head()"
   ]
  },
  {
   "cell_type": "code",
   "execution_count": 19,
   "id": "cf3ee470-07fe-455f-b5c3-673ee5ce01ec",
   "metadata": {},
   "outputs": [
    {
     "data": {
      "text/plain": [
       "array(['Mr', 'Mrs', 'Miss', 'Master', 'Don', 'Rev', 'Dr', 'Mme', 'Ms',\n",
       "       'Major', 'Lady', 'Sir', 'Mlle', 'Col', 'Capt', 'the Countess',\n",
       "       'Jonkheer', 'Dona'], dtype=object)"
      ]
     },
     "execution_count": 19,
     "metadata": {},
     "output_type": "execute_result"
    }
   ],
   "source": [
    "df['Title'].unique()"
   ]
  },
  {
   "cell_type": "code",
   "execution_count": 20,
   "id": "3f107996-b85f-487e-9cbf-e63d383061d3",
   "metadata": {},
   "outputs": [],
   "source": [
    "df['Title'] = df['Title'].replace({\n",
    "    'Mlle': 'Miss',\n",
    "    'Ms': 'Miss',\n",
    "    'Mme': 'Mrs',\n",
    "    'Lady': 'Rare',\n",
    "    'the Countess': 'Rare',\n",
    "    'Capt': 'Rare',\n",
    "    'Col': 'Rare',\n",
    "    'Don': 'Rare',\n",
    "    'Dr': 'Rare',\n",
    "    'Major': 'Rare',\n",
    "    'Rev': 'Rare',\n",
    "    'Sir': 'Rare',\n",
    "    'Jonkheer': 'Rare',\n",
    "    'Dona': 'Rare'\n",
    "})"
   ]
  },
  {
   "cell_type": "code",
   "execution_count": 21,
   "id": "b77a99e4-c680-45f4-a69f-3a198cf4536b",
   "metadata": {},
   "outputs": [
    {
     "data": {
      "text/plain": [
       "array(['Mr', 'Mrs', 'Miss', 'Master', 'Rare'], dtype=object)"
      ]
     },
     "execution_count": 21,
     "metadata": {},
     "output_type": "execute_result"
    }
   ],
   "source": [
    "df['Title'].unique()"
   ]
  },
  {
   "cell_type": "code",
   "execution_count": 22,
   "id": "262bb3ef-119a-4069-b630-c7bce5fbbc4b",
   "metadata": {},
   "outputs": [
    {
     "data": {
      "text/plain": [
       "Title\n",
       "Mr        757\n",
       "Miss      264\n",
       "Mrs       198\n",
       "Master     61\n",
       "Rare       29\n",
       "Name: count, dtype: int64"
      ]
     },
     "execution_count": 22,
     "metadata": {},
     "output_type": "execute_result"
    }
   ],
   "source": [
    "df['Title'].value_counts()"
   ]
  },
  {
   "cell_type": "markdown",
   "id": "c7d57795-dd9f-4a35-9540-7f72bd884b70",
   "metadata": {},
   "source": [
    "### Title Age Imputer using Pipeline"
   ]
  },
  {
   "cell_type": "code",
   "execution_count": 23,
   "id": "eae5f50d-4033-4ef5-9b1c-4008f8feffbe",
   "metadata": {},
   "outputs": [
    {
     "data": {
      "text/plain": [
       "np.int64(263)"
      ]
     },
     "execution_count": 23,
     "metadata": {},
     "output_type": "execute_result"
    }
   ],
   "source": [
    "df['Age'].isnull().sum()"
   ]
  },
  {
   "cell_type": "code",
   "execution_count": 24,
   "id": "376fe0d7-e277-4b91-a929-ea93be8239cb",
   "metadata": {},
   "outputs": [],
   "source": [
    "from sklearn.base import BaseEstimator, TransformerMixin\n",
    "\n",
    "class TitleAgeImputer(BaseEstimator, TransformerMixin):\n",
    "    def __init__(self):\n",
    "        self.title_age_map = None\n",
    "        self.global_mean = None\n",
    "\n",
    "    def fit(self, X, y=None):\n",
    "        self.title_age_map = X.groupby('Title')['Age'].mean()\n",
    "        self.global_mean = X['Age'].mean()\n",
    "        return self\n",
    "\n",
    "    def transform(self, X):\n",
    "        X_copy = X.copy()\n",
    "        X_copy['Age'] = X_copy['Age'].fillna(X_copy['Title'].map(self.title_age_map))\n",
    "        X_copy['Age'] = X_copy['Age'].fillna(self.global_mean)\n",
    "        return X_copy"
   ]
  },
  {
   "cell_type": "code",
   "execution_count": 25,
   "id": "6189476d-61bc-4b5f-847b-d3d49ccebab5",
   "metadata": {
    "scrolled": true
   },
   "outputs": [
    {
     "name": "stderr",
     "output_type": "stream",
     "text": [
      "C:\\Users\\aksha\\AppData\\Local\\Programs\\Python\\Python312\\Lib\\site-packages\\sklearn\\pipeline.py:62: FutureWarning: This Pipeline instance is not fitted yet. Call 'fit' with appropriate arguments before using other methods such as transform, predict, etc. This will raise an error in 1.8 instead of the current warning.\n",
      "  warnings.warn(\n"
     ]
    }
   ],
   "source": [
    "from sklearn.pipeline import Pipeline\n",
    "\n",
    "pipeline_age = Pipeline([\n",
    "    ('imputer', TitleAgeImputer())\n",
    "])\n",
    "\n",
    "train_data = df[df['is_train']==1]\n",
    "\n",
    "pipeline_age.fit(train_data)\n",
    "\n",
    "df = pipeline_age.transform(df)"
   ]
  },
  {
   "cell_type": "code",
   "execution_count": 26,
   "id": "f6919c29-df66-4579-9a34-01d112d6b0d9",
   "metadata": {},
   "outputs": [
    {
     "data": {
      "text/plain": [
       "np.int64(0)"
      ]
     },
     "execution_count": 26,
     "metadata": {},
     "output_type": "execute_result"
    }
   ],
   "source": [
    "df['Age'].isnull().sum()"
   ]
  },
  {
   "cell_type": "markdown",
   "id": "5b8851f4-858e-4c2c-99a2-a6d4f357c270",
   "metadata": {},
   "source": [
    "### Binning Age column"
   ]
  },
  {
   "cell_type": "markdown",
   "id": "16fa7261-8638-4a48-ab24-60fcff0da3d2",
   "metadata": {},
   "source": [
    "So that Models often capture non-linear survival patterns better this way."
   ]
  },
  {
   "cell_type": "code",
   "execution_count": 27,
   "id": "17f4ab3c-9f4c-4e01-b4c8-9c28f8d65ae6",
   "metadata": {},
   "outputs": [],
   "source": [
    "df['AgeBin'] = pd.cut(df['Age'],\n",
    "                     bins=[0,12,18,35,50,80],\n",
    "                     labels=['Child', 'Teen', 'Young Adult', 'Adult', 'Senior'])"
   ]
  },
  {
   "cell_type": "code",
   "execution_count": 28,
   "id": "55099e36-6575-446b-b90a-9c82acecd14d",
   "metadata": {},
   "outputs": [
    {
     "data": {
      "text/plain": [
       "AgeBin\n",
       "Young Adult    758\n",
       "Adult          255\n",
       "Child          102\n",
       "Teen            99\n",
       "Senior          95\n",
       "Name: count, dtype: int64"
      ]
     },
     "execution_count": 28,
     "metadata": {},
     "output_type": "execute_result"
    }
   ],
   "source": [
    "df['AgeBin'].value_counts()"
   ]
  },
  {
   "cell_type": "code",
   "execution_count": 29,
   "id": "83dbf81d-45d2-47b4-b3f9-95285f27ec99",
   "metadata": {},
   "outputs": [],
   "source": [
    "import seaborn as sns"
   ]
  },
  {
   "cell_type": "code",
   "execution_count": 30,
   "id": "1a1d83c0-c7c2-4683-aa0f-ace312621de3",
   "metadata": {},
   "outputs": [
    {
     "data": {
      "text/plain": [
       "<Axes: xlabel='AgeBin', ylabel='Count'>"
      ]
     },
     "execution_count": 30,
     "metadata": {},
     "output_type": "execute_result"
    },
    {
     "data": {
      "image/png": "[encoded data removed]",
      "text/plain": [
       "<Figure size 640x480 with 1 Axes>"
      ]
     },
     "metadata": {},
     "output_type": "display_data"
    }
   ],
   "source": [
    "sns.histplot(df['AgeBin'])"
   ]
  },
  {
   "cell_type": "code",
   "execution_count": 31,
   "id": "294c4934-2786-4a2b-835f-f4a8d24b93d2",
   "metadata": {},
   "outputs": [],
   "source": [
    "df['Embarked'] = df['Embarked'].fillna(df['Embarked'].mode()[0])"
   ]
  },
  {
   "cell_type": "markdown",
   "id": "a826ac76-c3c7-40c7-9204-8c2346adf12f",
   "metadata": {},
   "source": [
    "### Feature Engineering"
   ]
  },
  {
   "cell_type": "markdown",
   "id": "f5cc2c3e-efdd-40c8-96be-051b5ad4ea5e",
   "metadata": {},
   "source": [
    "Passengers with family aboard often had different survival chances."
   ]
  },
  {
   "cell_type": "code",
   "execution_count": 32,
   "id": "da05f40d-f4b9-47f1-8f08-a3028eb757fe",
   "metadata": {},
   "outputs": [],
   "source": [
    "df['FamilySize'] = df['SibSp']+df['Parch']+1"
   ]
  },
  {
   "cell_type": "markdown",
   "id": "db4a7f4f-29ed-4f99-97d4-942276429a08",
   "metadata": {},
   "source": [
    "People traveling alone might have lower survival probability."
   ]
  },
  {
   "cell_type": "code",
   "execution_count": 33,
   "id": "24872f2c-da58-4f4a-ac20-60493e61d413",
   "metadata": {},
   "outputs": [],
   "source": [
    "df['IsAlone'] = (df['FamilySize']==1).astype(int)"
   ]
  },
  {
   "cell_type": "markdown",
   "id": "49869106-2a9d-4b58-b563-469032794f15",
   "metadata": {},
   "source": [
    "Group passengers into categories based on ticket fare."
   ]
  },
  {
   "cell_type": "code",
   "execution_count": 34,
   "id": "12eabef3-9678-456e-ad6e-d84c61bf69d7",
   "metadata": {},
   "outputs": [],
   "source": [
    "df['Fare'] = df['Fare'].fillna(df['Fare'].median())"
   ]
  },
  {
   "cell_type": "code",
   "execution_count": 35,
   "id": "01653502-18b0-4362-9202-9d7f5098a32f",
   "metadata": {},
   "outputs": [],
   "source": [
    "df['FareBin'] = pd.qcut(df['Fare'], 4, labels=['Low',  'Mid', 'High', 'Very_High'])"
   ]
  },
  {
   "cell_type": "markdown",
   "id": "a41a7826-c124-483a-9be9-22ac6c2b122b",
   "metadata": {},
   "source": [
    "#### Interaction Features (Pclass × Sex)\n",
    "Some survival patterns depend on both class and gender."
   ]
  },
  {
   "cell_type": "code",
   "execution_count": 36,
   "id": "0af87c6f-66ff-411f-b1c9-d3581ee5a2f2",
   "metadata": {},
   "outputs": [],
   "source": [
    "df['Pclass_Sex'] = df['Pclass'].astype(str)+\"_\"+df['Sex']"
   ]
  },
  {
   "cell_type": "code",
   "execution_count": 37,
   "id": "a0daefc9-dbb4-48f0-b369-1b883cde0b8a",
   "metadata": {},
   "outputs": [
    {
     "data": {
      "text/plain": [
       "Index(['PassengerId', 'Pclass', 'Name', 'Sex', 'Age', 'SibSp', 'Parch',\n",
       "       'Ticket', 'Fare', 'Embarked', 'is_train', 'HasCabin', 'Deck', 'Title',\n",
       "       'AgeBin', 'FamilySize', 'IsAlone', 'FareBin', 'Pclass_Sex'],\n",
       "      dtype='object')"
      ]
     },
     "execution_count": 37,
     "metadata": {},
     "output_type": "execute_result"
    }
   ],
   "source": [
    "df.columns"
   ]
  },
  {
   "cell_type": "code",
   "execution_count": 38,
   "id": "04f3a502-70e5-4d43-b2ee-ebdfac4b3ad7",
   "metadata": {},
   "outputs": [],
   "source": [
    "numeric_features = ['Age', 'SibSp', 'Parch', 'Fare', 'FamilySize']\n",
    "categorical_features = ['Pclass', 'Sex', 'Embarked', 'Title', 'Deck', 'HasCabin', 'IsAlone', 'AgeBin', 'FareBin', 'Pclass_Sex']\n",
    "drop_columns = ['PassengerId', 'Name', 'Ticket', 'is_train']"
   ]
  },
  {
   "cell_type": "code",
   "execution_count": 39,
   "id": "c2613c52-3141-47a0-a9ca-9145a06257cf",
   "metadata": {},
   "outputs": [],
   "source": [
    "train_data = df[df['is_train'] == 1].copy()\n",
    "test_data = df[df['is_train'] == 0].copy()\n",
    "\n",
    "# Save PassengerId for submission\n",
    "passenger_ids = test_data['PassengerId']\n",
    "\n",
    "# Drop unnecessary columns\n",
    "train_data = train_data.drop(columns=drop_columns)\n",
    "test_data = test_data.drop(columns=drop_columns)"
   ]
  },
  {
   "cell_type": "code",
   "execution_count": 40,
   "id": "5d1d4e4f-3d83-49b2-b507-38f71d82ad37",
   "metadata": {},
   "outputs": [],
   "source": [
    "X_train = train_data\n",
    "X_test = test_data\n",
    "\n",
    "y_train = target"
   ]
  },
  {
   "cell_type": "code",
   "execution_count": 41,
   "id": "0de3ea3b-bf1e-41c6-ba5e-74e8762837ae",
   "metadata": {},
   "outputs": [
    {
     "name": "stdout",
     "output_type": "stream",
     "text": [
      "Requirement already satisfied: catboost in c:\\users\\aksha\\appdata\\local\\programs\\python\\python313\\lib\\site-packages (1.2.8)\n",
      "Requirement already satisfied: graphviz in c:\\users\\aksha\\appdata\\local\\programs\\python\\python313\\lib\\site-packages (from catboost) (0.21)\n",
      "Requirement already satisfied: matplotlib in c:\\users\\aksha\\appdata\\local\\programs\\python\\python313\\lib\\site-packages (from catboost) (3.10.6)\n",
      "Requirement already satisfied: numpy<3.0,>=1.16.0 in c:\\users\\aksha\\appdata\\local\\programs\\python\\python313\\lib\\site-packages (from catboost) (2.3.2)\n",
      "Requirement already satisfied: pandas>=0.24 in c:\\users\\aksha\\appdata\\local\\programs\\python\\python313\\lib\\site-packages (from catboost) (2.3.2)\n",
      "Requirement already satisfied: scipy in c:\\users\\aksha\\appdata\\local\\programs\\python\\python313\\lib\\site-packages (from catboost) (1.16.1)\n",
      "Requirement already satisfied: plotly in c:\\users\\aksha\\appdata\\local\\programs\\python\\python313\\lib\\site-packages (from catboost) (6.3.0)\n",
      "Requirement already satisfied: six in c:\\users\\aksha\\appdata\\local\\programs\\python\\python313\\lib\\site-packages (from catboost) (1.17.0)\n",
      "Requirement already satisfied: python-dateutil>=2.8.2 in c:\\users\\aksha\\appdata\\local\\programs\\python\\python313\\lib\\site-packages (from pandas>=0.24->catboost) (2.9.0.post0)\n",
      "Requirement already satisfied: pytz>=2020.1 in c:\\users\\aksha\\appdata\\local\\programs\\python\\python313\\lib\\site-packages (from pandas>=0.24->catboost) (2025.2)\n",
      "Requirement already satisfied: tzdata>=2022.7 in c:\\users\\aksha\\appdata\\local\\programs\\python\\python313\\lib\\site-packages (from pandas>=0.24->catboost) (2025.2)\n",
      "Requirement already satisfied: contourpy>=1.0.1 in c:\\users\\aksha\\appdata\\local\\programs\\python\\python313\\lib\\site-packages (from matplotlib->catboost) (1.3.3)\n",
      "Requirement already satisfied: cycler>=0.10 in c:\\users\\aksha\\appdata\\local\\programs\\python\\python313\\lib\\site-packages (from matplotlib->catboost) (0.12.1)\n",
      "Requirement already satisfied: fonttools>=4.22.0 in c:\\users\\aksha\\appdata\\local\\programs\\python\\python313\\lib\\site-packages (from matplotlib->catboost) (4.59.2)\n",
      "Requirement already satisfied: kiwisolver>=1.3.1 in c:\\users\\aksha\\appdata\\local\\programs\\python\\python313\\lib\\site-packages (from matplotlib->catboost) (1.4.9)\n",
      "Requirement already satisfied: packaging>=20.0 in c:\\users\\aksha\\appdata\\local\\programs\\python\\python313\\lib\\site-packages (from matplotlib->catboost) (25.0)\n",
      "Requirement already satisfied: pillow>=8 in c:\\users\\aksha\\appdata\\local\\programs\\python\\python313\\lib\\site-packages (from matplotlib->catboost) (11.3.0)\n",
      "Requirement already satisfied: pyparsing>=2.3.1 in c:\\users\\aksha\\appdata\\local\\programs\\python\\python313\\lib\\site-packages (from matplotlib->catboost) (3.2.3)\n",
      "Requirement already satisfied: narwhals>=1.15.1 in c:\\users\\aksha\\appdata\\local\\programs\\python\\python313\\lib\\site-packages (from plotly->catboost) (2.3.0)\n"
     ]
    }
   ],
   "source": [
    "!pip install catboost"
   ]
  },
  {
   "cell_type": "code",
   "execution_count": 42,
   "id": "b4f93c9b-9ccc-48b9-8964-b88b12f20c71",
   "metadata": {},
   "outputs": [
    {
     "ename": "ModuleNotFoundError",
     "evalue": "No module named 'catboost'",
     "output_type": "error",
     "traceback": [
      "\u001b[31m---------------------------------------------------------------------------\u001b[39m",
      "\u001b[31mModuleNotFoundError\u001b[39m                       Traceback (most recent call last)",
      "\u001b[36mCell\u001b[39m\u001b[36m \u001b[39m\u001b[32mIn[42]\u001b[39m\u001b[32m, line 1\u001b[39m\n\u001b[32m----> \u001b[39m\u001b[32m1\u001b[39m \u001b[38;5;28;01mimport\u001b[39;00m\u001b[38;5;250m \u001b[39m\u001b[34;01mcatboost\u001b[39;00m\n\u001b[32m      2\u001b[39m \u001b[38;5;28mprint\u001b[39m(catboost.__version__)\n",
      "\u001b[31mModuleNotFoundError\u001b[39m: No module named 'catboost'"
     ]
    }
   ],
   "source": [
    "import catboost\n",
    "print(catboost.__version__)\n"
   ]
  },
  {
   "cell_type": "code",
   "execution_count": null,
   "id": "99429307-2495-4263-8871-a00eff436ce9",
   "metadata": {},
   "outputs": [],
   "source": [
    "\n",
    "from sklearn.model_selection import train_test_split\n",
    "from catboost import CatBoostClassifier\n",
    "\n",
    "\n",
    "X_train, X_val, y_train, y_val = train_test_split(X_train, y_train, test_size=0.2, random_state=42)\n",
    "\n",
    "# Initialize CatBoost\n",
    "model = CatBoostClassifier(\n",
    "    iterations=500,\n",
    "    depth=6,\n",
    "    learning_rate=0.05,\n",
    "    loss_function='Logloss',\n",
    "    eval_metric='Accuracy',\n",
    "    random_seed=42,\n",
    "    verbose=100\n",
    ")\n",
    "\n",
    "# Train\n",
    "model.fit(X_train, y_train, eval_set=(X_val, y_val))"
   ]
  },
  {
   "cell_type": "code",
   "execution_count": null,
   "id": "e2209895-c147-453d-b4ec-76c6b01d6567",
   "metadata": {},
   "outputs": [],
   "source": []
  }
 ],
 "metadata": {
  "kernelspec": {
   "display_name": "Python 3 (ipykernel)",
   "language": "python",
   "name": "python3"
  },
  "language_info": {
   "codemirror_mode": {
    "name": "ipython",
    "version": 3
   },
   "file_extension": ".py",
   "mimetype": "text/x-python",
   "name": "python",
   "nbconvert_exporter": "python",
   "pygments_lexer": "ipython3",
   "version": "3.12.3"
  }
 },
 "nbformat": 4,
 "nbformat_minor": 5
}
